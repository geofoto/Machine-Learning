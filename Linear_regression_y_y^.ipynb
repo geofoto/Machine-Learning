{
  "nbformat": 4,
  "nbformat_minor": 0,
  "metadata": {
    "colab": {
      "name": "Linear_regression_y_y^.ipynb",
      "provenance": [],
      "collapsed_sections": []
    },
    "kernelspec": {
      "name": "python3",
      "display_name": "Python 3"
    }
  },
  "cells": [
    {
      "cell_type": "markdown",
      "metadata": {
        "id": "ng6GXii8848i"
      },
      "source": [
        "# ***Linear Regression - Plot the loss $y-\\hat{y}$***\n",
        "\n",
        "---"
      ]
    },
    {
      "cell_type": "markdown",
      "metadata": {
        "id": "u-XbpAYSG_Lt"
      },
      "source": [
        "The regression model, plotting the loss with respect to the training epochs required for the model to converge."
      ]
    },
    {
      "cell_type": "code",
      "metadata": {
        "id": "Z_tTNjdB7LWN"
      },
      "source": [
        "import pandas as pd     # import the needed packages.\n",
        "import matplotlib.pyplot as plt\n",
        "import numpy as np\n",
        "from sklearn.linear_model import LinearRegression\n",
        "from sklearn import datasets, linear_model\n",
        "from sklearn.linear_model import SGDClassifier, SGDRegressor\n",
        "import sys\n",
        "from io import StringIO"
      ],
      "execution_count": null,
      "outputs": []
    },
    {
      "cell_type": "code",
      "metadata": {
        "id": "QhhxASX37nmD",
        "colab": {
          "base_uri": "https://localhost:8080/"
        },
        "outputId": "eb41eaf7-1df9-4bb4-ae20-650414edda05"
      },
      "source": [
        "day = \"/content/day.csv\"      # import day.csv\n",
        "df = pd.read_csv(day)\n",
        "print(df)       # print the dataset."
      ],
      "execution_count": null,
      "outputs": [
        {
          "output_type": "stream",
          "text": [
            "     instant      dteday  season  yr  ...  windspeed  casual  registered   cnt\n",
            "0          1  2011-01-01       1   0  ...   0.160446     331         654   985\n",
            "1          2  2011-01-02       1   0  ...   0.248539     131         670   801\n",
            "2          3  2011-01-03       1   0  ...   0.248309     120        1229  1349\n",
            "3          4  2011-01-04       1   0  ...   0.160296     108        1454  1562\n",
            "4          5  2011-01-05       1   0  ...   0.186900      82        1518  1600\n",
            "..       ...         ...     ...  ..  ...        ...     ...         ...   ...\n",
            "726      727  2012-12-27       1   1  ...   0.350133     247        1867  2114\n",
            "727      728  2012-12-28       1   1  ...   0.155471     644        2451  3095\n",
            "728      729  2012-12-29       1   1  ...   0.124383     159        1182  1341\n",
            "729      730  2012-12-30       1   1  ...   0.350754     364        1432  1796\n",
            "730      731  2012-12-31       1   1  ...   0.154846     439        2290  2729\n",
            "\n",
            "[731 rows x 16 columns]\n"
          ],
          "name": "stdout"
        }
      ]
    },
    {
      "cell_type": "code",
      "metadata": {
        "id": "jvyEkbSk7oOZ",
        "colab": {
          "base_uri": "https://localhost:8080/"
        },
        "outputId": "cad7fbaf-d190-4075-af2e-1bb73bc38ab1"
      },
      "source": [
        "# feature_cols = ['mnth', 'holiday', 'weekday', 'workingday','weathersit','temp', 'hum', 'windspeed']\n",
        "X = df[['temp']]     # select prominent feature.\n",
        "y = df['cnt']      # target variable.\n",
        "print(X.head())\n",
        "print(y.head())"
      ],
      "execution_count": null,
      "outputs": [
        {
          "output_type": "stream",
          "text": [
            "       temp\n",
            "0  0.344167\n",
            "1  0.363478\n",
            "2  0.196364\n",
            "3  0.200000\n",
            "4  0.226957\n",
            "0     985\n",
            "1     801\n",
            "2    1349\n",
            "3    1562\n",
            "4    1600\n",
            "Name: cnt, dtype: int64\n"
          ],
          "name": "stdout"
        }
      ]
    },
    {
      "cell_type": "code",
      "metadata": {
        "id": "KlAzokSa7v6R",
        "colab": {
          "base_uri": "https://localhost:8080/"
        },
        "outputId": "37a49d5a-4462-4178-e2b3-54b038e88096"
      },
      "source": [
        "old_stdout = sys.stdout\n",
        "sys.stdout = mystdout = StringIO()"
      ],
      "execution_count": null,
      "outputs": [
        {
          "output_type": "stream",
          "text": [
            "-- Epoch 1\n",
            "Norm: 339.00, NNZs: 1, Bias: 985.000000, T: 1, Avg. loss: 485112.500000\n",
            "Total training time: 0.00 seconds.\n",
            "-- Epoch 1\n",
            "Norm: 298.85, NNZs: 1, Bias: 868.325840, T: 1, Avg. loss: 6806.429809\n",
            "Total training time: 0.00 seconds.\n",
            "-- Epoch 1\n",
            "Norm: 303.61, NNZs: 1, Bias: 882.146002, T: 1, Avg. loss: 95.498440\n",
            "Total training time: 0.00 seconds.\n",
            "-- Epoch 1\n",
            "Norm: 303.04, NNZs: 1, Bias: 880.508991, T: 1, Avg. loss: 1.339902\n",
            "Total training time: 0.00 seconds.\n",
            "-- Epoch 1\n",
            "Norm: 303.11, NNZs: 1, Bias: 880.702897, T: 1, Avg. loss: 0.018800\n",
            "Total training time: 0.00 seconds.\n",
            "-- Epoch 1\n",
            "Norm: 303.10, NNZs: 1, Bias: 880.679928, T: 1, Avg. loss: 0.000264\n",
            "Total training time: 0.00 seconds.\n",
            "-- Epoch 1\n",
            "Norm: 303.10, NNZs: 1, Bias: 880.682649, T: 1, Avg. loss: 0.000004\n",
            "Total training time: 0.00 seconds.\n",
            "-- Epoch 1\n",
            "Norm: 303.10, NNZs: 1, Bias: 880.682327, T: 1, Avg. loss: 0.000000\n",
            "Total training time: 0.00 seconds.\n",
            "-- Epoch 1\n",
            "Norm: 303.10, NNZs: 1, Bias: 880.682365, T: 1, Avg. loss: 0.000000\n",
            "Total training time: 0.00 seconds.\n",
            "-- Epoch 1\n",
            "Norm: 303.10, NNZs: 1, Bias: 880.682360, T: 1, Avg. loss: 0.000000\n",
            "Total training time: 0.00 seconds.\n",
            "-- Epoch 1\n",
            "Norm: 303.10, NNZs: 1, Bias: 880.682361, T: 1, Avg. loss: 0.000000\n",
            "Total training time: 0.00 seconds.\n",
            "-- Epoch 1\n",
            "Norm: 303.10, NNZs: 1, Bias: 880.682361, T: 1, Avg. loss: 0.000000\n",
            "Total training time: 0.00 seconds.\n",
            "-- Epoch 1\n",
            "Norm: 303.10, NNZs: 1, Bias: 880.682361, T: 1, Avg. loss: 0.000000\n",
            "Total training time: 0.00 seconds.\n",
            "-- Epoch 1\n",
            "Norm: 303.10, NNZs: 1, Bias: 880.682361, T: 1, Avg. loss: 0.000000\n",
            "Total training time: 0.00 seconds.\n",
            "-- Epoch 1\n",
            "Norm: 303.10, NNZs: 1, Bias: 880.682361, T: 1, Avg. loss: 0.000000\n",
            "Total training time: 0.00 seconds.\n",
            "\n"
          ],
          "name": "stdout"
        }
      ]
    },
    {
      "cell_type": "code",
      "metadata": {
        "id": "sCESIHla7x-x"
      },
      "source": [
        "n = 1 ;             # number of instances.\n",
        "fX = X[:n].values\n",
        "fy = y[:n].values"
      ],
      "execution_count": null,
      "outputs": []
    },
    {
      "cell_type": "code",
      "metadata": {
        "id": "hyHYjCgz7ykx"
      },
      "source": [
        "learning_rate = 1\n",
        "\n",
        "sgd = SGDRegressor(loss=\"squared_loss\", learning_rate='constant', eta0=learning_rate, penalty=None, max_iter=1,\n",
        "                   average=False, random_state=2018, verbose=1)"
      ],
      "execution_count": null,
      "outputs": []
    },
    {
      "cell_type": "code",
      "metadata": {
        "id": "KytP-o1h77Ip"
      },
      "source": [
        "p_sum = [] ;      # this holds the sum of y-y_hat.\n",
        "epochs = 15 ;     # number of epochs.\n",
        "\n",
        "for epoch in range(epochs):\n",
        "    model = sgd.partial_fit(fX, fy)\n",
        "    y = model.predict(fX)\n",
        "    p_sum.append(np.sum(fy-y))"
      ],
      "execution_count": null,
      "outputs": []
    },
    {
      "cell_type": "code",
      "metadata": {
        "id": "ch4WvJPB8EZZ"
      },
      "source": [
        "sys.stdout = old_stdout\n",
        "loss_history = mystdout.getvalue()\n",
        "print(loss_history)\n",
        "loss_list = []\n",
        "for line in loss_history.split('\\n'):\n",
        "    if(len(line.split(\"loss: \")) == 1):\n",
        "        continue\n",
        "    loss_list.append(float(line.split(\"loss: \")[-1]))"
      ],
      "execution_count": null,
      "outputs": []
    },
    {
      "cell_type": "code",
      "metadata": {
        "id": "qCYceWAJ8JC5",
        "colab": {
          "base_uri": "https://localhost:8080/"
        },
        "outputId": "93d290ed-0710-47e1-9972-77e64e07be65"
      },
      "source": [
        "print(model.coef_)"
      ],
      "execution_count": null,
      "outputs": [
        {
          "output_type": "stream",
          "text": [
            "[303.10180604]\n"
          ],
          "name": "stdout"
        }
      ]
    },
    {
      "cell_type": "code",
      "metadata": {
        "id": "Oh1d99Lk8JzZ",
        "colab": {
          "base_uri": "https://localhost:8080/",
          "height": 286
        },
        "outputId": "a275cbfd-4cab-4973-9d24-f725bf45d9a5"
      },
      "source": [
        "plt.figure()          # print loss with respect to y-yhat.\n",
        "plt.plot(p_sum, loss_list)\n",
        "plt.xlabel(\"$y-\\hat{y}$\")\n",
        "plt.ylabel(\"Loss\")\n",
        "plt.show()"
      ],
      "execution_count": null,
      "outputs": [
        {
          "output_type": "display_data",
          "data": {
            "image/png": "[encoded data removed]",
            "text/plain": [
              "<Figure size 432x288 with 1 Axes>"
            ]
          },
          "metadata": {
            "tags": [],
            "needs_background": "light"
          }
        }
      ]
    }
  ]
}