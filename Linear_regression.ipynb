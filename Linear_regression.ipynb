{
  "nbformat": 4,
  "nbformat_minor": 0,
  "metadata": {
    "colab": {
      "name": "Linear_regression.ipynb",
      "provenance": [],
      "collapsed_sections": []
    },
    "kernelspec": {
      "name": "python3",
      "display_name": "Python 3"
    }
  },
  "cells": [
    {
      "cell_type": "markdown",
      "metadata": {
        "id": "3ln4YNi28vWC"
      },
      "source": [
        "\n",
        "\n",
        "# ***Linear Regression***\n",
        "\n",
        "---\n",
        "\n"
      ]
    },
    {
      "cell_type": "markdown",
      "metadata": {
        "id": "NEm2AJ2bfHaj"
      },
      "source": [
        "Treating the same task as a regression problem, developing a linear regression object that predicts the number of persons that used a bicycle from all the available numeric features."
      ]
    },
    {
      "cell_type": "code",
      "metadata": {
        "id": "t6DnFkWv8sxn"
      },
      "source": [
        "import pandas as pd     # import the needed packages.\n",
        "import matplotlib.pyplot as plt\n",
        "import numpy as np\n",
        "from sklearn.model_selection import train_test_split\n",
        "from sklearn.linear_model import LinearRegression\n",
        "from sklearn import datasets, linear_model\n",
        "from sklearn.metrics import r2_score"
      ],
      "execution_count": null,
      "outputs": []
    },
    {
      "cell_type": "code",
      "metadata": {
        "id": "M1wWeOf3bguB",
        "colab": {
          "base_uri": "https://localhost:8080/"
        },
        "outputId": "861ea2f7-765d-40e1-f026-8e6abeda3ece"
      },
      "source": [
        "day = \"/content/day.csv\"      # import day.csv\n",
        "df = pd.read_csv(day)\n",
        "print(df)       # print the dataset."
      ],
      "execution_count": null,
      "outputs": [
        {
          "output_type": "stream",
          "text": [
            "     instant      dteday  season  yr  ...  windspeed  casual  registered   cnt\n",
            "0          1  2011-01-01       1   0  ...   0.160446     331         654   985\n",
            "1          2  2011-01-02       1   0  ...   0.248539     131         670   801\n",
            "2          3  2011-01-03       1   0  ...   0.248309     120        1229  1349\n",
            "3          4  2011-01-04       1   0  ...   0.160296     108        1454  1562\n",
            "4          5  2011-01-05       1   0  ...   0.186900      82        1518  1600\n",
            "..       ...         ...     ...  ..  ...        ...     ...         ...   ...\n",
            "726      727  2012-12-27       1   1  ...   0.350133     247        1867  2114\n",
            "727      728  2012-12-28       1   1  ...   0.155471     644        2451  3095\n",
            "728      729  2012-12-29       1   1  ...   0.124383     159        1182  1341\n",
            "729      730  2012-12-30       1   1  ...   0.350754     364        1432  1796\n",
            "730      731  2012-12-31       1   1  ...   0.154846     439        2290  2729\n",
            "\n",
            "[731 rows x 16 columns]\n"
          ],
          "name": "stdout"
        }
      ]
    },
    {
      "cell_type": "code",
      "metadata": {
        "id": "0BEovczob9tm",
        "colab": {
          "base_uri": "https://localhost:8080/"
        },
        "outputId": "3b918b33-4cb6-4188-d75f-24d4521da1dc"
      },
      "source": [
        "# feature_cols = ['mnth', 'holiday', 'weekday', 'workingday','weathersit','temp', 'hum', 'windspeed']\n",
        "X = df[['temp']]     # select prominent feature.\n",
        "y = df['cnt']      # target variable.\n",
        "print(X.head())\n",
        "print(y.head())"
      ],
      "execution_count": null,
      "outputs": [
        {
          "output_type": "stream",
          "text": [
            "       temp\n",
            "0  0.344167\n",
            "1  0.363478\n",
            "2  0.196364\n",
            "3  0.200000\n",
            "4  0.226957\n",
            "0     985\n",
            "1     801\n",
            "2    1349\n",
            "3    1562\n",
            "4    1600\n",
            "Name: cnt, dtype: int64\n"
          ],
          "name": "stdout"
        }
      ]
    },
    {
      "cell_type": "code",
      "metadata": {
        "id": "b-B4YG8wKptf",
        "colab": {
          "base_uri": "https://localhost:8080/"
        },
        "outputId": "adf58b15-1146-4a2d-c1db-5e6e6f60760c"
      },
      "source": [
        "print(X.shape)\n",
        "print(y.shape)"
      ],
      "execution_count": null,
      "outputs": [
        {
          "output_type": "stream",
          "text": [
            "(731, 1)\n",
            "(731,)\n"
          ],
          "name": "stdout"
        }
      ]
    },
    {
      "cell_type": "code",
      "metadata": {
        "id": "RzMtADn-Lg67",
        "colab": {
          "base_uri": "https://localhost:8080/",
          "height": 265
        },
        "outputId": "df3bddb0-6d2c-46e5-e613-8afa44bf9305"
      },
      "source": [
        "plt.scatter(X, y, color='black')    # plot the dataset with scatterplot.\n",
        "plt.show()"
      ],
      "execution_count": null,
      "outputs": [
        {
          "output_type": "display_data",
          "data": {
            "image/png": "[encoded data removed]",
            "text/plain": [
              "<Figure size 432x288 with 1 Axes>"
            ]
          },
          "metadata": {
            "tags": [],
            "needs_background": "light"
          }
        }
      ]
    },
    {
      "cell_type": "code",
      "metadata": {
        "id": "QmXF_nl1ctXG",
        "colab": {
          "base_uri": "https://localhost:8080/"
        },
        "outputId": "618dee3f-7352-4fe4-95a4-fd385adfc8d4"
      },
      "source": [
        "# split the dataset into train/test.\n",
        "X_train,X_test,y_train,y_test = train_test_split(X,y,test_size=0.25,random_state=0)\n",
        "print(X_test)"
      ],
      "execution_count": null,
      "outputs": [
        {
          "output_type": "stream",
          "text": [
            "         temp\n",
            "196  0.686667\n",
            "187  0.750000\n",
            "14   0.233333\n",
            "31   0.192174\n",
            "390  0.341667\n",
            "..        ...\n",
            "310  0.395000\n",
            "21   0.059130\n",
            "650  0.437500\n",
            "424  0.344348\n",
            "35   0.233333\n",
            "\n",
            "[183 rows x 1 columns]\n"
          ],
          "name": "stdout"
        }
      ]
    },
    {
      "cell_type": "code",
      "metadata": {
        "id": "tRsQFvegdBWh"
      },
      "source": [
        "regr = linear_model.LinearRegression()   # create a linear regression model."
      ],
      "execution_count": null,
      "outputs": []
    },
    {
      "cell_type": "code",
      "metadata": {
        "id": "TsyPjYtFdCnu",
        "colab": {
          "base_uri": "https://localhost:8080/"
        },
        "outputId": "cb3f3242-7454-417f-e4f3-d745beb5f16a"
      },
      "source": [
        "regr.fit(X_train, y_train)        # train the model using the training set."
      ],
      "execution_count": null,
      "outputs": [
        {
          "output_type": "execute_result",
          "data": {
            "text/plain": [
              "LinearRegression(copy_X=True, fit_intercept=True, n_jobs=None, normalize=False)"
            ]
          },
          "metadata": {
            "tags": []
          },
          "execution_count": 8
        }
      ]
    },
    {
      "cell_type": "code",
      "metadata": {
        "id": "ah2bSYz3ul40"
      },
      "source": [
        "y_pred = regr.predict(X_test)      # make predictions using the testing set."
      ],
      "execution_count": null,
      "outputs": []
    },
    {
      "cell_type": "code",
      "metadata": {
        "id": "dN-11Szj0Siu",
        "colab": {
          "base_uri": "https://localhost:8080/"
        },
        "outputId": "a4824097-fc44-432e-81fe-cdbbe872fd6c"
      },
      "source": [
        "accuracy = regr.score(X_test,y_test)\n",
        "print(accuracy*100,'%')         # print the accuracy."
      ],
      "execution_count": null,
      "outputs": [
        {
          "output_type": "stream",
          "text": [
            "37.540464616240456 %\n"
          ],
          "name": "stdout"
        }
      ]
    },
    {
      "cell_type": "code",
      "metadata": {
        "id": "Dui4MlpkgwSt",
        "colab": {
          "base_uri": "https://localhost:8080/",
          "height": 266
        },
        "outputId": "88554ae8-8684-4e5e-bd59-e006ab8fbce5"
      },
      "source": [
        "plt.scatter(X_test, y_test,  color='black')         # plot the output.\n",
        "plt.plot(X_test, y_pred, color='blue', linewidth=3)\n",
        "plt.show()"
      ],
      "execution_count": null,
      "outputs": [
        {
          "output_type": "display_data",
          "data": {
            "image/png": "[encoded data removed]",
            "text/plain": [
              "<Figure size 432x288 with 1 Axes>"
            ]
          },
          "metadata": {
            "tags": [],
            "needs_background": "light"
          }
        }
      ]
    },
    {
      "cell_type": "code",
      "metadata": {
        "id": "hqKFweb6hmU-",
        "colab": {
          "base_uri": "https://localhost:8080/",
          "height": 265
        },
        "outputId": "9dc8bb68-3325-474a-8d0b-358b4eec4db8"
      },
      "source": [
        "plt.scatter(X, y,  color='black')              \n",
        "plt.plot(X_test, y_pred, color='blue', linewidth=3)\n",
        "plt.show()"
      ],
      "execution_count": null,
      "outputs": [
        {
          "output_type": "display_data",
          "data": {
            "image/png": "[encoded data removed]",
            "text/plain": [
              "<Figure size 432x288 with 1 Axes>"
            ]
          },
          "metadata": {
            "tags": [],
            "needs_background": "light"
          }
        }
      ]
    },
    {
      "cell_type": "markdown",
      "metadata": {
        "id": "NeqZREW5xoCl"
      },
      "source": [
        "**Plot the losss function over epochs**"
      ]
    },
    {
      "cell_type": "code",
      "metadata": {
        "id": "evFSWFFDxpK8"
      },
      "source": [
        "from sklearn.linear_model import SGDClassifier, SGDRegressor    # import the needed packages.\n",
        "import sys\n",
        "from io import StringIO"
      ],
      "execution_count": null,
      "outputs": []
    },
    {
      "cell_type": "code",
      "metadata": {
        "id": "wqvpm9Okx0jV",
        "colab": {
          "base_uri": "https://localhost:8080/"
        },
        "outputId": "a10f1531-d841-4624-e1d0-9526b545eb44"
      },
      "source": [
        "old_stdout = sys.stdout\n",
        "sys.stdout = mystdout = StringIO()"
      ],
      "execution_count": null,
      "outputs": [
        {
          "output_type": "stream",
          "text": [
            "-- Epoch 1\n",
            "Norm: 33.90, NNZs: 1, Bias: 98.500000, T: 1, Avg. loss: 485112.500000\n",
            "Total training time: 0.00 seconds.\n",
            "-- Epoch 2\n",
            "Norm: 64.01, NNZs: 1, Bias: 185.983258, T: 2, Avg. loss: 382666.025011\n",
            "Total training time: 0.00 seconds.\n",
            "-- Epoch 3\n",
            "Norm: 90.75, NNZs: 1, Bias: 263.681944, T: 3, Avg. loss: 301854.284724\n",
            "Total training time: 0.00 seconds.\n",
            "-- Epoch 4\n",
            "Norm: 114.50, NNZs: 1, Bias: 332.690412, T: 4, Avg. loss: 238108.437255\n",
            "Total training time: 0.00 seconds.\n",
            "-- Epoch 5\n",
            "Norm: 135.60, NNZs: 1, Bias: 393.980622, T: 5, Avg. loss: 187824.492682\n",
            "Total training time: 0.00 seconds.\n",
            "-- Epoch 6\n",
            "Norm: 154.33, NNZs: 1, Bias: 448.415823, T: 6, Avg. loss: 148159.554772\n",
            "Total training time: 0.00 seconds.\n",
            "-- Epoch 7\n",
            "Norm: 170.97, NNZs: 1, Bias: 496.762714, T: 7, Avg. loss: 116871.092565\n",
            "Total training time: 0.00 seconds.\n",
            "-- Epoch 8\n",
            "Norm: 185.75, NNZs: 1, Bias: 539.702242, T: 8, Avg. loss: 92190.154718\n",
            "Total training time: 0.00 seconds.\n",
            "-- Epoch 9\n",
            "Norm: 198.87, NNZs: 1, Bias: 577.839195, T: 9, Avg. loss: 72721.358553\n",
            "Total training time: 0.00 seconds.\n",
            "-- Epoch 10\n",
            "Norm: 210.53, NNZs: 1, Bias: 611.710717, T: 10, Avg. loss: 57363.999507\n",
            "Total training time: 0.00 seconds.\n",
            "-- Epoch 11\n",
            "Norm: 220.88, NNZs: 1, Bias: 641.793875, T: 11, Avg. loss: 45249.820753\n",
            "Total training time: 0.00 seconds.\n",
            "-- Epoch 12\n",
            "Norm: 230.08, NNZs: 1, Bias: 668.512380, T: 12, Avg. loss: 35693.924688\n",
            "Total training time: 0.00 seconds.\n",
            "-- Epoch 13\n",
            "Norm: 238.25, NNZs: 1, Bias: 692.242551, T: 13, Avg. loss: 28156.050972\n",
            "Total training time: 0.00 seconds.\n",
            "-- Epoch 14\n",
            "Norm: 245.50, NNZs: 1, Bias: 713.318619, T: 14, Avg. loss: 22210.031911\n",
            "Total training time: 0.00 seconds.\n",
            "-- Epoch 15\n",
            "Norm: 251.94, NNZs: 1, Bias: 732.037432, T: 15, Avg. loss: 17519.698270\n",
            "Total training time: 0.00 seconds.\n",
            "-- Epoch 16\n",
            "Norm: 257.66, NNZs: 1, Bias: 748.662638, T: 16, Avg. loss: 13819.873321\n",
            "Total training time: 0.00 seconds.\n",
            "-- Epoch 17\n",
            "Norm: 262.75, NNZs: 1, Bias: 763.428396, T: 17, Avg. loss: 10901.380587\n",
            "Total training time: 0.00 seconds.\n",
            "-- Epoch 18\n",
            "Norm: 267.26, NNZs: 1, Bias: 776.542677, T: 18, Avg. loss: 8599.217658\n",
            "Total training time: 0.00 seconds.\n",
            "-- Epoch 19\n",
            "Norm: 271.27, NNZs: 1, Bias: 788.190189, T: 19, Avg. loss: 6783.227477\n",
            "Total training time: 0.00 seconds.\n",
            "-- Epoch 20\n",
            "Norm: 274.83, NNZs: 1, Bias: 798.534985, T: 20, Avg. loss: 5350.739664\n",
            "Total training time: 0.00 seconds.\n",
            "-- Epoch 21\n",
            "Norm: 277.99, NNZs: 1, Bias: 807.722766, T: 21, Avg. loss: 4220.765860\n",
            "Total training time: 0.00 seconds.\n",
            "-- Epoch 22\n",
            "Norm: 280.80, NNZs: 1, Bias: 815.882938, T: 22, Avg. loss: 3329.420895\n",
            "Total training time: 0.00 seconds.\n",
            "-- Epoch 23\n",
            "Norm: 283.29, NNZs: 1, Bias: 823.130436, T: 23, Avg. loss: 2626.310927\n",
            "Total training time: 0.00 seconds.\n",
            "-- Epoch 24\n",
            "Norm: 285.51, NNZs: 1, Bias: 829.567336, T: 24, Avg. loss: 2071.684327\n",
            "Total training time: 0.00 seconds.\n",
            "-- Epoch 25\n",
            "Norm: 287.48, NNZs: 1, Bias: 835.284301, T: 25, Avg. loss: 1634.184249\n",
            "Total training time: 0.00 seconds.\n",
            "-- Epoch 26\n",
            "Norm: 289.22, NNZs: 1, Bias: 840.361851, T: 26, Avg. loss: 1289.075814\n",
            "Total training time: 0.00 seconds.\n",
            "-- Epoch 27\n",
            "Norm: 290.78, NNZs: 1, Bias: 844.871502, T: 27, Avg. loss: 1016.847675\n",
            "Total training time: 0.00 seconds.\n",
            "-- Epoch 28\n",
            "Norm: 292.16, NNZs: 1, Bias: 848.876771, T: 28, Avg. loss: 802.108908\n",
            "Total training time: 0.00 seconds.\n",
            "-- Epoch 29\n",
            "Norm: 293.38, NNZs: 1, Bias: 852.434070, T: 29, Avg. loss: 632.718859\n",
            "Total training time: 0.00 seconds.\n",
            "-- Epoch 30\n",
            "Norm: 294.47, NNZs: 1, Bias: 855.593503, T: 30, Avg. loss: 499.100746\n",
            "Total training time: 0.00 seconds.\n",
            "-- Epoch 31\n",
            "Norm: 295.43, NNZs: 1, Bias: 858.399568, T: 31, Avg. loss: 393.700221\n",
            "Total training time: 0.00 seconds.\n",
            "-- Epoch 32\n",
            "Norm: 296.29, NNZs: 1, Bias: 860.891789, T: 32, Avg. loss: 310.558270\n",
            "Total training time: 0.00 seconds.\n",
            "-- Epoch 33\n",
            "Norm: 297.05, NNZs: 1, Bias: 863.105268, T: 33, Avg. loss: 244.974307\n",
            "Total training time: 0.00 seconds.\n",
            "-- Epoch 34\n",
            "Norm: 297.73, NNZs: 1, Bias: 865.071179, T: 34, Avg. loss: 193.240422\n",
            "Total training time: 0.00 seconds.\n",
            "-- Epoch 35\n",
            "Norm: 298.33, NNZs: 1, Bias: 866.817213, T: 35, Avg. loss: 152.431744\n",
            "Total training time: 0.00 seconds.\n",
            "-- Epoch 36\n",
            "Norm: 298.86, NNZs: 1, Bias: 868.367962, T: 36, Avg. loss: 120.241077\n",
            "Total training time: 0.00 seconds.\n",
            "-- Epoch 37\n",
            "Norm: 299.34, NNZs: 1, Bias: 869.745267, T: 37, Avg. loss: 94.848463\n",
            "Total training time: 0.00 seconds.\n",
            "-- Epoch 38\n",
            "Norm: 299.76, NNZs: 1, Bias: 870.968527, T: 38, Avg. loss: 74.818283\n",
            "Total training time: 0.00 seconds.\n",
            "-- Epoch 39\n",
            "Norm: 300.13, NNZs: 1, Bias: 872.054972, T: 39, Avg. loss: 59.018094\n",
            "Total training time: 0.00 seconds.\n",
            "-- Epoch 40\n",
            "Norm: 300.46, NNZs: 1, Bias: 873.019903, T: 40, Avg. loss: 46.554602\n",
            "Total training time: 0.00 seconds.\n",
            "-- Epoch 41\n",
            "Norm: 300.76, NNZs: 1, Bias: 873.876911, T: 41, Avg. loss: 36.723161\n",
            "Total training time: 0.00 seconds.\n",
            "-- Epoch 42\n",
            "Norm: 301.02, NNZs: 1, Bias: 874.638067, T: 42, Avg. loss: 28.967932\n",
            "Total training time: 0.00 seconds.\n",
            "-- Epoch 43\n",
            "Norm: 301.25, NNZs: 1, Bias: 875.314092, T: 43, Avg. loss: 22.850459\n",
            "Total training time: 0.00 seconds.\n",
            "-- Epoch 44\n",
            "Norm: 301.46, NNZs: 1, Bias: 875.914506, T: 44, Avg. loss: 18.024880\n",
            "Total training time: 0.00 seconds.\n",
            "-- Epoch 45\n",
            "Norm: 301.64, NNZs: 1, Bias: 876.447768, T: 45, Avg. loss: 14.218370\n",
            "Total training time: 0.00 seconds.\n",
            "-- Epoch 46\n",
            "Norm: 301.81, NNZs: 1, Bias: 876.921386, T: 46, Avg. loss: 11.215723\n",
            "Total training time: 0.00 seconds.\n",
            "-- Epoch 47\n",
            "Norm: 301.95, NNZs: 1, Bias: 877.342033, T: 47, Avg. loss: 8.847177\n",
            "Total training time: 0.00 seconds.\n",
            "-- Epoch 48\n",
            "Norm: 302.08, NNZs: 1, Bias: 877.715632, T: 48, Avg. loss: 6.978822\n",
            "Total training time: 0.00 seconds.\n",
            "-- Epoch 49\n",
            "Norm: 302.19, NNZs: 1, Bias: 878.047446, T: 49, Avg. loss: 5.505029\n",
            "Total training time: 0.00 seconds.\n",
            "-- Epoch 50\n",
            "Norm: 302.30, NNZs: 1, Bias: 878.342148, T: 50, Avg. loss: 4.342472\n",
            "Total training time: 0.00 seconds.\n",
            "-- Epoch 51\n",
            "Norm: 302.39, NNZs: 1, Bias: 878.603890, T: 51, Avg. loss: 3.425425\n",
            "Total training time: 0.00 seconds.\n",
            "-- Epoch 52\n",
            "Norm: 302.47, NNZs: 1, Bias: 878.836356, T: 52, Avg. loss: 2.702041\n",
            "Total training time: 0.00 seconds.\n",
            "-- Epoch 53\n",
            "Norm: 302.54, NNZs: 1, Bias: 879.042823, T: 53, Avg. loss: 2.131421\n",
            "Total training time: 0.00 seconds.\n",
            "-- Epoch 54\n",
            "Norm: 302.60, NNZs: 1, Bias: 879.226197, T: 54, Avg. loss: 1.681306\n",
            "Total training time: 0.00 seconds.\n",
            "-- Epoch 55\n",
            "Norm: 302.66, NNZs: 1, Bias: 879.389062, T: 55, Avg. loss: 1.326246\n",
            "Total training time: 0.00 seconds.\n",
            "-- Epoch 56\n",
            "Norm: 302.71, NNZs: 1, Bias: 879.533711, T: 56, Avg. loss: 1.046169\n",
            "Total training time: 0.00 seconds.\n",
            "-- Epoch 57\n",
            "Norm: 302.75, NNZs: 1, Bias: 879.662182, T: 57, Avg. loss: 0.825238\n",
            "Total training time: 0.00 seconds.\n",
            "-- Epoch 58\n",
            "Norm: 302.79, NNZs: 1, Bias: 879.776284, T: 58, Avg. loss: 0.650963\n",
            "Total training time: 0.00 seconds.\n",
            "-- Epoch 59\n",
            "Norm: 302.82, NNZs: 1, Bias: 879.877624, T: 59, Avg. loss: 0.513492\n",
            "Total training time: 0.00 seconds.\n",
            "-- Epoch 60\n",
            "Norm: 302.86, NNZs: 1, Bias: 879.967630, T: 60, Avg. loss: 0.405053\n",
            "Total training time: 0.00 seconds.\n",
            "-- Epoch 61\n",
            "Norm: 302.88, NNZs: 1, Bias: 880.047569, T: 61, Avg. loss: 0.319513\n",
            "Total training time: 0.00 seconds.\n",
            "-- Epoch 62\n",
            "Norm: 302.91, NNZs: 1, Bias: 880.118567, T: 62, Avg. loss: 0.252038\n",
            "Total training time: 0.00 seconds.\n",
            "-- Epoch 63\n",
            "Norm: 302.93, NNZs: 1, Bias: 880.181625, T: 63, Avg. loss: 0.198813\n",
            "Total training time: 0.00 seconds.\n",
            "-- Epoch 64\n",
            "Norm: 302.95, NNZs: 1, Bias: 880.237630, T: 64, Avg. loss: 0.156827\n",
            "Total training time: 0.00 seconds.\n",
            "-- Epoch 65\n",
            "Norm: 302.97, NNZs: 1, Bias: 880.287371, T: 65, Avg. loss: 0.123708\n",
            "Total training time: 0.00 seconds.\n",
            "-- Epoch 66\n",
            "Norm: 302.98, NNZs: 1, Bias: 880.331548, T: 66, Avg. loss: 0.097583\n",
            "Total training time: 0.00 seconds.\n",
            "-- Epoch 67\n",
            "Norm: 302.99, NNZs: 1, Bias: 880.370785, T: 67, Avg. loss: 0.076976\n",
            "Total training time: 0.00 seconds.\n",
            "-- Epoch 68\n",
            "Norm: 303.01, NNZs: 1, Bias: 880.405633, T: 68, Avg. loss: 0.060720\n",
            "Total training time: 0.00 seconds.\n",
            "-- Epoch 69\n",
            "Norm: 303.02, NNZs: 1, Bias: 880.436584, T: 69, Avg. loss: 0.047897\n",
            "Total training time: 0.00 seconds.\n",
            "-- Epoch 70\n",
            "Norm: 303.03, NNZs: 1, Bias: 880.464073, T: 70, Avg. loss: 0.037782\n",
            "Total training time: 0.00 seconds.\n",
            "-- Epoch 71\n",
            "Norm: 303.04, NNZs: 1, Bias: 880.488487, T: 71, Avg. loss: 0.029803\n",
            "Total training time: 0.00 seconds.\n",
            "-- Epoch 72\n",
            "Norm: 303.04, NNZs: 1, Bias: 880.510171, T: 72, Avg. loss: 0.023509\n",
            "Total training time: 0.00 seconds.\n",
            "-- Epoch 73\n",
            "Norm: 303.05, NNZs: 1, Bias: 880.529430, T: 73, Avg. loss: 0.018545\n",
            "Total training time: 0.00 seconds.\n",
            "-- Epoch 74\n",
            "Norm: 303.06, NNZs: 1, Bias: 880.546534, T: 74, Avg. loss: 0.014628\n",
            "Total training time: 0.00 seconds.\n",
            "-- Epoch 75\n",
            "Norm: 303.06, NNZs: 1, Bias: 880.561726, T: 75, Avg. loss: 0.011539\n",
            "Total training time: 0.00 seconds.\n",
            "-- Epoch 76\n",
            "Norm: 303.06, NNZs: 1, Bias: 880.575218, T: 76, Avg. loss: 0.009102\n",
            "Total training time: 0.00 seconds.\n",
            "-- Epoch 77\n",
            "Norm: 303.07, NNZs: 1, Bias: 880.587202, T: 77, Avg. loss: 0.007180\n",
            "Total training time: 0.00 seconds.\n",
            "-- Epoch 78\n",
            "Norm: 303.07, NNZs: 1, Bias: 880.597845, T: 78, Avg. loss: 0.005664\n",
            "Total training time: 0.00 seconds.\n",
            "-- Epoch 79\n",
            "Norm: 303.08, NNZs: 1, Bias: 880.607297, T: 79, Avg. loss: 0.004468\n",
            "Total training time: 0.00 seconds.\n",
            "-- Epoch 80\n",
            "Norm: 303.08, NNZs: 1, Bias: 880.615693, T: 80, Avg. loss: 0.003524\n",
            "Total training time: 0.00 seconds.\n",
            "-- Epoch 81\n",
            "Norm: 303.08, NNZs: 1, Bias: 880.623149, T: 81, Avg. loss: 0.002780\n",
            "Total training time: 0.00 seconds.\n",
            "-- Epoch 82\n",
            "Norm: 303.08, NNZs: 1, Bias: 880.629772, T: 82, Avg. loss: 0.002193\n",
            "Total training time: 0.00 seconds.\n",
            "-- Epoch 83\n",
            "Norm: 303.09, NNZs: 1, Bias: 880.635654, T: 83, Avg. loss: 0.001730\n",
            "Total training time: 0.00 seconds.\n",
            "-- Epoch 84\n",
            "Norm: 303.09, NNZs: 1, Bias: 880.640878, T: 84, Avg. loss: 0.001364\n",
            "Total training time: 0.00 seconds.\n",
            "Convergence after 84 epochs took 0.00 seconds\n",
            "\n"
          ],
          "name": "stdout"
        }
      ]
    },
    {
      "cell_type": "code",
      "metadata": {
        "id": "E12Pt6mtx3D8"
      },
      "source": [
        "n = 1 ;             # number of instances.\n",
        "fX = X[:n].values\n",
        "fy = y[:n].values"
      ],
      "execution_count": null,
      "outputs": []
    },
    {
      "cell_type": "code",
      "metadata": {
        "id": "0IuCjq8jVYYX"
      },
      "source": [
        "#learning_rate = 0.01   # perform the experiment each time with a differenet learning rate.\n",
        "learning_rate = 0.1     # it seems that, for learning rate a = 0.1 the model has a better convergent.\n",
        "#learning_rate = 1\n",
        "\n",
        "sgd = SGDRegressor(loss=\"squared_loss\", learning_rate='constant', eta0=learning_rate, penalty=None, max_iter=100,\n",
        "                   average=False, random_state=2018, verbose=1)"
      ],
      "execution_count": null,
      "outputs": []
    },
    {
      "cell_type": "code",
      "metadata": {
        "id": "LyYaMA8SVcry"
      },
      "source": [
        "p_sum = [] ;        # this holds the sum of y-y_hat.\n",
        "epochs = 15 ;       # number of epochs.\n",
        "model = sgd.fit(fX, fy)                       \n",
        "y = model.predict(fX)\n",
        "p_sum.append(np.sum(fy-y))"
      ],
      "execution_count": null,
      "outputs": []
    },
    {
      "cell_type": "code",
      "metadata": {
        "id": "H0EhqIOKWKsc"
      },
      "source": [
        "sys.stdout = old_stdout\n",
        "loss_history = mystdout.getvalue()\n",
        "print(loss_history)\n",
        "loss_list = []\n",
        "for line in loss_history.split('\\n'):\n",
        "    if(len(line.split(\"loss: \")) == 1):\n",
        "        continue\n",
        "    loss_list.append(float(line.split(\"loss: \")[-1]))"
      ],
      "execution_count": null,
      "outputs": []
    },
    {
      "cell_type": "code",
      "metadata": {
        "id": "gDH7g1fTWNHa",
        "colab": {
          "base_uri": "https://localhost:8080/"
        },
        "outputId": "9cde53d7-fc87-43cd-a9ca-ba738e94cb5f"
      },
      "source": [
        "print(model.coef_)"
      ],
      "execution_count": null,
      "outputs": [
        {
          "output_type": "stream",
          "text": [
            "[303.08752891]\n"
          ],
          "name": "stdout"
        }
      ]
    },
    {
      "cell_type": "code",
      "metadata": {
        "id": "5ELDjlOkHGAu",
        "colab": {
          "base_uri": "https://localhost:8080/",
          "height": 280
        },
        "outputId": "2932da0f-0ee0-4ddd-f1f0-0d65ea6c82db"
      },
      "source": [
        "plt.figure()\n",
        "plt.plot(np.arange(len(loss_list)), loss_list)\n",
        "plt.xlabel(\"Epochs\")\n",
        "plt.ylabel(\"Loss\")\n",
        "plt.show()"
      ],
      "execution_count": null,
      "outputs": [
        {
          "output_type": "display_data",
          "data": {
            "image/png": "[encoded data removed]",
            "text/plain": [
              "<Figure size 432x288 with 1 Axes>"
            ]
          },
          "metadata": {
            "tags": [],
            "needs_background": "light"
          }
        }
      ]
    }
  ]
}