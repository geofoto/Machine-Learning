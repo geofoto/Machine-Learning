{
  "nbformat": 4,
  "nbformat_minor": 0,
  "metadata": {
    "colab": {
      "name": "Logistic_regression_&_y_y^.ipynb",
      "provenance": [],
      "collapsed_sections": []
    },
    "kernelspec": {
      "name": "python3",
      "display_name": "Python 3"
    }
  },
  "cells": [
    {
      "cell_type": "markdown",
      "metadata": {
        "id": "kME2VS4mVpJf"
      },
      "source": [
        "\n",
        "\n",
        "# ***Logistic Regression***\n",
        "\n",
        "\n",
        "---\n",
        "\n",
        "\n"
      ]
    },
    {
      "cell_type": "markdown",
      "metadata": {
        "id": "KbslhIe7dkE_"
      },
      "source": [
        "Applying logistic regression that predicts the if “few” or “many” persons \n",
        "have used a bicycle from all the available numeric features and plot the loss with respect to (𝑦−𝑦̂)."
      ]
    },
    {
      "cell_type": "code",
      "metadata": {
        "id": "wNTQb7YbVni4"
      },
      "source": [
        "import pandas as pd     # import the needed packages.\n",
        "import matplotlib.pyplot as plt\n",
        "import numpy as np\n",
        "from sklearn.model_selection import train_test_split\n",
        "from sklearn.linear_model import LogisticRegression\n",
        "from sklearn import datasets, linear_model\n",
        "from sklearn import metrics"
      ],
      "execution_count": null,
      "outputs": []
    },
    {
      "cell_type": "code",
      "metadata": {
        "id": "dusfSuedtfQI",
        "colab": {
          "base_uri": "https://localhost:8080/"
        },
        "outputId": "af599589-39b1-49fb-dfa1-48b6c7dab52a"
      },
      "source": [
        "day = \"/content/day.csv\"      # import day.csv\n",
        "df = pd.read_csv(day)\n",
        "print(df)       # print the dataset."
      ],
      "execution_count": null,
      "outputs": [
        {
          "output_type": "stream",
          "text": [
            "     instant      dteday  season  yr  ...  windspeed  casual  registered   cnt\n",
            "0          1  2011-01-01       1   0  ...   0.160446     331         654   985\n",
            "1          2  2011-01-02       1   0  ...   0.248539     131         670   801\n",
            "2          3  2011-01-03       1   0  ...   0.248309     120        1229  1349\n",
            "3          4  2011-01-04       1   0  ...   0.160296     108        1454  1562\n",
            "4          5  2011-01-05       1   0  ...   0.186900      82        1518  1600\n",
            "..       ...         ...     ...  ..  ...        ...     ...         ...   ...\n",
            "726      727  2012-12-27       1   1  ...   0.350133     247        1867  2114\n",
            "727      728  2012-12-28       1   1  ...   0.155471     644        2451  3095\n",
            "728      729  2012-12-29       1   1  ...   0.124383     159        1182  1341\n",
            "729      730  2012-12-30       1   1  ...   0.350754     364        1432  1796\n",
            "730      731  2012-12-31       1   1  ...   0.154846     439        2290  2729\n",
            "\n",
            "[731 rows x 16 columns]\n"
          ],
          "name": "stdout"
        }
      ]
    },
    {
      "cell_type": "code",
      "metadata": {
        "id": "GN5vTKI50qbr",
        "colab": {
          "base_uri": "https://localhost:8080/"
        },
        "outputId": "1d7fd62a-7313-44b7-86e6-0b0b004a68ea"
      },
      "source": [
        "# feature_cols = ['mnth', 'holiday', 'weekday', 'workingday','weathersit','temp', 'hum', 'windspeed']\n",
        "X = df[['temp']]     # select prominent feature.\n",
        "y = df['cnt']      # target variable.\n",
        "print(X.head())\n",
        "print(y.head())"
      ],
      "execution_count": null,
      "outputs": [
        {
          "output_type": "stream",
          "text": [
            "       temp\n",
            "0  0.344167\n",
            "1  0.363478\n",
            "2  0.196364\n",
            "3  0.200000\n",
            "4  0.226957\n",
            "0     985\n",
            "1     801\n",
            "2    1349\n",
            "3    1562\n",
            "4    1600\n",
            "Name: cnt, dtype: int64\n"
          ],
          "name": "stdout"
        }
      ]
    },
    {
      "cell_type": "code",
      "metadata": {
        "id": "ayQTajqhpM_R",
        "colab": {
          "base_uri": "https://localhost:8080/"
        },
        "outputId": "0fc81bc2-c688-4c34-d4d2-8f1bfa816733"
      },
      "source": [
        "print(X.shape)\n",
        "print(y.shape)"
      ],
      "execution_count": null,
      "outputs": [
        {
          "output_type": "stream",
          "text": [
            "(731, 1)\n",
            "(731,)\n"
          ],
          "name": "stdout"
        }
      ]
    },
    {
      "cell_type": "code",
      "metadata": {
        "id": "ya012fnZ0s58",
        "colab": {
          "base_uri": "https://localhost:8080/"
        },
        "outputId": "0328250d-ca81-4067-98b2-b0b16ad4652a"
      },
      "source": [
        "labels = ['0', '1']         # put the class values into 2 bins, to create 2 classes “few” = 0, “many” = 1.\n",
        "y = pd.cut(y, 2, labels=labels)\n",
        "print(y.head())"
      ],
      "execution_count": null,
      "outputs": [
        {
          "output_type": "stream",
          "text": [
            "0    0\n",
            "1    0\n",
            "2    0\n",
            "3    0\n",
            "4    0\n",
            "Name: cnt, dtype: category\n",
            "Categories (2, object): ['0' < '1']\n"
          ],
          "name": "stdout"
        }
      ]
    },
    {
      "cell_type": "code",
      "metadata": {
        "id": "nGhYEB7z0yqL",
        "colab": {
          "base_uri": "https://localhost:8080/",
          "height": 265
        },
        "outputId": "c20764a5-0755-4082-9620-246660734214"
      },
      "source": [
        "plt.scatter(X, y, color='black')   # plot the dataset with scatterplot.\n",
        "plt.show()"
      ],
      "execution_count": null,
      "outputs": [
        {
          "output_type": "display_data",
          "data": {
            "image/png": "[encoded data removed]",
            "text/plain": [
              "<Figure size 432x288 with 1 Axes>"
            ]
          },
          "metadata": {
            "tags": [],
            "needs_background": "light"
          }
        }
      ]
    },
    {
      "cell_type": "code",
      "metadata": {
        "id": "ZVDBCp501BT0",
        "colab": {
          "base_uri": "https://localhost:8080/"
        },
        "outputId": "20942595-201d-4cc0-c8ec-c37d9132bfaa"
      },
      "source": [
        "# split the dataset into train/test.\n",
        "X_train,X_test,y_train,y_test = train_test_split(X, y, test_size=0.25, random_state=0)\n",
        "print(X_test)"
      ],
      "execution_count": null,
      "outputs": [
        {
          "output_type": "stream",
          "text": [
            "         temp\n",
            "196  0.686667\n",
            "187  0.750000\n",
            "14   0.233333\n",
            "31   0.192174\n",
            "390  0.341667\n",
            "..        ...\n",
            "310  0.395000\n",
            "21   0.059130\n",
            "650  0.437500\n",
            "424  0.344348\n",
            "35   0.233333\n",
            "\n",
            "[183 rows x 1 columns]\n"
          ],
          "name": "stdout"
        }
      ]
    },
    {
      "cell_type": "code",
      "metadata": {
        "id": "crAT8vtb1eWF"
      },
      "source": [
        "logreg = linear_model.LogisticRegression(solver='lbfgs', multi_class='auto')    # create a logistic regression model."
      ],
      "execution_count": null,
      "outputs": []
    },
    {
      "cell_type": "code",
      "metadata": {
        "id": "uScoAR343V02",
        "colab": {
          "base_uri": "https://localhost:8080/"
        },
        "outputId": "899b9c1d-d4b2-47ea-d3ca-2621a5550298"
      },
      "source": [
        "logreg.fit(X_train,y_train)       # train the model using the training set."
      ],
      "execution_count": null,
      "outputs": [
        {
          "output_type": "execute_result",
          "data": {
            "text/plain": [
              "LogisticRegression(C=1.0, class_weight=None, dual=False, fit_intercept=True,\n",
              "                   intercept_scaling=1, l1_ratio=None, max_iter=100,\n",
              "                   multi_class='auto', n_jobs=None, penalty='l2',\n",
              "                   random_state=None, solver='lbfgs', tol=0.0001, verbose=0,\n",
              "                   warm_start=False)"
            ]
          },
          "metadata": {
            "tags": []
          },
          "execution_count": 9
        }
      ]
    },
    {
      "cell_type": "code",
      "metadata": {
        "id": "xwXw-Trh3wcj",
        "colab": {
          "base_uri": "https://localhost:8080/"
        },
        "outputId": "a61859b0-550d-486b-ba64-339d8e0a8364"
      },
      "source": [
        "y_pred = logreg.predict(X_test)   # make predictions using the testing set.\n",
        "print(y_pred)      "
      ],
      "execution_count": null,
      "outputs": [
        {
          "output_type": "stream",
          "text": [
            "['1' '1' '0' '0' '0' '0' '1' '0' '0' '0' '0' '0' '0' '1' '1' '1' '1' '0'\n",
            " '0' '0' '1' '0' '0' '1' '0' '1' '1' '1' '1' '1' '0' '1' '0' '1' '0' '0'\n",
            " '1' '1' '0' '0' '1' '0' '1' '0' '1' '1' '0' '1' '0' '0' '1' '1' '1' '1'\n",
            " '1' '0' '0' '0' '1' '0' '1' '0' '1' '1' '1' '1' '1' '1' '1' '0' '1' '1'\n",
            " '0' '1' '1' '1' '1' '1' '0' '0' '1' '0' '1' '0' '1' '1' '1' '1' '1' '1'\n",
            " '0' '0' '1' '1' '1' '0' '0' '1' '1' '0' '1' '0' '0' '1' '0' '1' '1' '1'\n",
            " '0' '0' '1' '1' '1' '0' '0' '1' '1' '1' '1' '0' '0' '1' '1' '0' '1' '1'\n",
            " '0' '1' '0' '1' '0' '1' '0' '0' '0' '1' '1' '1' '1' '1' '0' '1' '1' '0'\n",
            " '1' '1' '1' '0' '1' '1' '1' '0' '1' '1' '0' '1' '1' '1' '0' '1' '0' '1'\n",
            " '0' '1' '0' '1' '0' '1' '0' '1' '1' '0' '1' '1' '1' '0' '0' '1' '0' '0'\n",
            " '0' '0' '0']\n"
          ],
          "name": "stdout"
        }
      ]
    },
    {
      "cell_type": "code",
      "metadata": {
        "id": "aTWtJ7SlIXML",
        "colab": {
          "base_uri": "https://localhost:8080/"
        },
        "outputId": "f2fe4fc1-76de-433d-caf3-86303d8d0834"
      },
      "source": [
        "accuracy = logreg.score(X_test,y_test)\n",
        "print(accuracy*100,'%')         # print the accuracy."
      ],
      "execution_count": null,
      "outputs": [
        {
          "output_type": "stream",
          "text": [
            "77.59562841530054 %\n"
          ],
          "name": "stdout"
        }
      ]
    },
    {
      "cell_type": "markdown",
      "metadata": {
        "id": "2MkB0y0yuuk-"
      },
      "source": [
        "**Print loss with respect to $y-\\hat{y}$**"
      ]
    },
    {
      "cell_type": "code",
      "metadata": {
        "id": "HiTmyKnkvGJw"
      },
      "source": [
        "from sklearn.linear_model import SGDClassifier, SGDRegressor\n",
        "import sys\n",
        "from io import StringIO"
      ],
      "execution_count": null,
      "outputs": []
    },
    {
      "cell_type": "code",
      "metadata": {
        "id": "wN__Izmquwos",
        "colab": {
          "base_uri": "https://localhost:8080/"
        },
        "outputId": "9b6f8e66-e1aa-4e36-d2b6-509b7c8702fb"
      },
      "source": [
        "old_stdout = sys.stdout\n",
        "sys.stdout = mystdout = StringIO()"
      ],
      "execution_count": null,
      "outputs": [
        {
          "output_type": "stream",
          "text": [
            "-- Epoch 1\n",
            "Norm: 0.34, NNZs: 1, Bias: -1.000000, T: 1, Avg. loss: 0.500000\n",
            "Total training time: 0.00 seconds.\n",
            "-- Epoch 1\n",
            "Norm: 0.30, NNZs: 1, Bias: -0.881549, T: 1, Avg. loss: 0.007015\n",
            "Total training time: 0.00 seconds.\n",
            "-- Epoch 1\n",
            "Norm: 0.31, NNZs: 1, Bias: -0.895580, T: 1, Avg. loss: 0.000098\n",
            "Total training time: 0.00 seconds.\n",
            "-- Epoch 1\n",
            "Norm: 0.31, NNZs: 1, Bias: -0.893918, T: 1, Avg. loss: 0.000001\n",
            "Total training time: 0.00 seconds.\n",
            "-- Epoch 1\n",
            "Norm: 0.31, NNZs: 1, Bias: -0.894115, T: 1, Avg. loss: 0.000000\n",
            "Total training time: 0.00 seconds.\n",
            "-- Epoch 1\n",
            "Norm: 0.31, NNZs: 1, Bias: -0.894091, T: 1, Avg. loss: 0.000000\n",
            "Total training time: 0.00 seconds.\n",
            "-- Epoch 1\n",
            "Norm: 0.31, NNZs: 1, Bias: -0.894094, T: 1, Avg. loss: 0.000000\n",
            "Total training time: 0.00 seconds.\n",
            "-- Epoch 1\n",
            "Norm: 0.31, NNZs: 1, Bias: -0.894094, T: 1, Avg. loss: 0.000000\n",
            "Total training time: 0.00 seconds.\n",
            "-- Epoch 1\n",
            "Norm: 0.31, NNZs: 1, Bias: -0.894094, T: 1, Avg. loss: 0.000000\n",
            "Total training time: 0.00 seconds.\n",
            "-- Epoch 1\n",
            "Norm: 0.31, NNZs: 1, Bias: -0.894094, T: 1, Avg. loss: 0.000000\n",
            "Total training time: 0.00 seconds.\n",
            "-- Epoch 1\n",
            "Norm: 0.31, NNZs: 1, Bias: -0.894094, T: 1, Avg. loss: 0.000000\n",
            "Total training time: 0.00 seconds.\n",
            "-- Epoch 1\n",
            "Norm: 0.31, NNZs: 1, Bias: -0.894094, T: 1, Avg. loss: 0.000000\n",
            "Total training time: 0.00 seconds.\n",
            "-- Epoch 1\n",
            "Norm: 0.31, NNZs: 1, Bias: -0.894094, T: 1, Avg. loss: 0.000000\n",
            "Total training time: 0.00 seconds.\n",
            "-- Epoch 1\n",
            "Norm: 0.31, NNZs: 1, Bias: -0.894094, T: 1, Avg. loss: 0.000000\n",
            "Total training time: 0.00 seconds.\n",
            "-- Epoch 1\n",
            "Norm: 0.31, NNZs: 1, Bias: -0.894094, T: 1, Avg. loss: 0.000000\n",
            "Total training time: 0.00 seconds.\n",
            "\n"
          ],
          "name": "stdout"
        }
      ]
    },
    {
      "cell_type": "code",
      "metadata": {
        "id": "fLtXyIPyvS9O"
      },
      "source": [
        "n = 1 ;# number of instances to keep\n",
        "fX = X[:n].values\n",
        "fy = y[:n].values"
      ],
      "execution_count": null,
      "outputs": []
    },
    {
      "cell_type": "code",
      "metadata": {
        "id": "qlP2v7P_v-N1"
      },
      "source": [
        "learning_rate = 1\n",
        "\n",
        "sgd  = SGDClassifier(loss=\"squared_loss\", learning_rate='constant', eta0=learning_rate, penalty=None, max_iter=1,\n",
        "                     average=False, random_state=2018, verbose=1)\n"
      ],
      "execution_count": null,
      "outputs": []
    },
    {
      "cell_type": "code",
      "metadata": {
        "id": "N-o2VADnwApc"
      },
      "source": [
        "p_sum  = [] ;       # this holds the sum of y-y_hat.\n",
        "epochs = 15 ;       # number of epochs.\n",
        "\n",
        "for epoch in range(epochs):\n",
        "    model  = sgd.partial_fit(fX, fy, classes=labels)\n",
        "    y  = model.predict(fX)\n",
        "    p  = model.decision_function(fX)\n",
        "    c  = (1 - np.mean(y == fy))\n",
        "    p_sum.append(p)"
      ],
      "execution_count": null,
      "outputs": []
    },
    {
      "cell_type": "code",
      "metadata": {
        "id": "tJh3h2buwCwM"
      },
      "source": [
        "sys.stdout = old_stdout\n",
        "loss_history = mystdout.getvalue()\n",
        "print(loss_history)\n",
        "loss_list = []\n",
        "for line in loss_history.split('\\n'):\n",
        "    if(len(line.split(\"loss: \")) == 1):\n",
        "        continue\n",
        "    loss_list.append(float(line.split(\"loss: \")[-1]))"
      ],
      "execution_count": null,
      "outputs": []
    },
    {
      "cell_type": "code",
      "metadata": {
        "id": "W6RhdnvewFOs",
        "colab": {
          "base_uri": "https://localhost:8080/"
        },
        "outputId": "9eda5fb7-1b0d-402b-84a0-95880b7bf104"
      },
      "source": [
        "print(model.coef_)"
      ],
      "execution_count": null,
      "outputs": [
        {
          "output_type": "stream",
          "text": [
            "[[-0.30771757]]\n"
          ],
          "name": "stdout"
        }
      ]
    },
    {
      "cell_type": "code",
      "metadata": {
        "id": "YpwbUENnwHPF",
        "colab": {
          "base_uri": "https://localhost:8080/",
          "height": 279
        },
        "outputId": "d9c05265-828f-4dd3-937e-89b08801d688"
      },
      "source": [
        "plt.figure()\n",
        "plt.plot(np.arange(len(loss_list)), loss_list)\n",
        "plt.xlabel(\"Epochs\")\n",
        "plt.ylabel(\"Loss\")\n",
        "plt.show()"
      ],
      "execution_count": null,
      "outputs": [
        {
          "output_type": "display_data",
          "data": {
            "image/png": "[encoded data removed]",
            "text/plain": [
              "<Figure size 432x288 with 1 Axes>"
            ]
          },
          "metadata": {
            "tags": [],
            "needs_background": "light"
          }
        }
      ]
    },
    {
      "cell_type": "code",
      "metadata": {
        "id": "hkUYiiAfwNGs",
        "colab": {
          "base_uri": "https://localhost:8080/",
          "height": 286
        },
        "outputId": "f9d123c6-361c-45ee-e17a-b8b14598e22c"
      },
      "source": [
        "plt.figure()\n",
        "plt.plot(p_sum, loss_list)\n",
        "plt.xlabel(\"$y-\\hat{y}$\")\n",
        "plt.ylabel(\"Loss\")\n",
        "plt.show()"
      ],
      "execution_count": null,
      "outputs": [
        {
          "output_type": "display_data",
          "data": {
            "image/png": "[encoded data removed]",
            "text/plain": [
              "<Figure size 432x288 with 1 Axes>"
            ]
          },
          "metadata": {
            "tags": [],
            "needs_background": "light"
          }
        }
      ]
    }
  ]
}